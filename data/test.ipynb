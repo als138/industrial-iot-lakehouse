{
 "cells": [
  {
   "cell_type": "code",
   "execution_count": 1,
   "id": "5f1ffb6a",
   "metadata": {
    "vscode": {
     "languageId": "plaintext"
    }
   },
   "outputs": [],
   "source": [
    "import numpy as np \n",
    "import pandas  as pd"
   ]
  },
  {
   "cell_type": "code",
   "execution_count": 2,
   "id": "0c7d1d03",
   "metadata": {},
   "outputs": [
    {
     "name": "stdout",
     "output_type": "stream",
     "text": [
      "<class 'pandas.core.frame.DataFrame'>\n",
      "RangeIndex: 1000 entries, 0 to 999\n",
      "Data columns (total 7 columns):\n",
      " #   Column            Non-Null Count  Dtype  \n",
      "---  ------            --------------  -----  \n",
      " 0   Timestamp         1000 non-null   object \n",
      " 1   Vibration (mm/s)  1000 non-null   float64\n",
      " 2   Temperature (°C)  1000 non-null   float64\n",
      " 3   Pressure (bar)    1000 non-null   float64\n",
      " 4   RMS Vibration     1000 non-null   float64\n",
      " 5   Mean Temp         1000 non-null   float64\n",
      " 6   Fault Label       1000 non-null   int64  \n",
      "dtypes: float64(5), int64(1), object(1)\n",
      "memory usage: 54.8+ KB\n"
     ]
    }
   ],
   "source": [
    "df = pd.read_csv('industrial_fault_detection.csv')\n",
    "df.info()"
   ]
  },
  {
   "cell_type": "code",
   "execution_count": 4,
   "id": "66a81cdc",
   "metadata": {},
   "outputs": [
    {
     "name": "stdout",
     "output_type": "stream",
     "text": [
      "              Timestamp  Vibration (mm/s)  Temperature (°C)  Pressure (bar)  \\\n",
      "0   2023-03-10 00:00:00          0.437086         64.810634        7.785117   \n",
      "1   2023-03-10 00:01:00          0.955643         93.352076        7.740936   \n",
      "2   2023-03-10 00:02:00          0.758795        119.835667        9.718764   \n",
      "3   2023-03-10 00:03:00          0.638793        108.577991        7.748639   \n",
      "4   2023-03-10 00:04:00          0.240417        114.524892        7.815849   \n",
      "5   2023-03-10 00:05:00          0.240395        102.702669        9.278195   \n",
      "6   2023-03-10 00:06:00          0.152275        105.382125        8.349220   \n",
      "7   2023-03-10 00:07:00          0.879559        117.935652        9.330132   \n",
      "8   2023-03-10 00:08:00          0.641004         69.973441        7.196098   \n",
      "9   2023-03-10 00:09:00          0.737265         89.153997        8.462714   \n",
      "10  2023-03-10 00:10:00          0.118526         67.696755        7.100841   \n",
      "11  2023-03-10 00:11:00          0.972919        129.013441        7.187960   \n",
      "12  2023-03-10 00:12:00          0.849198        125.524747        9.719312   \n",
      "13  2023-03-10 00:13:00          0.291105         53.154145        7.417736   \n",
      "14  2023-03-10 00:14:00          0.263642        106.446014        8.597262   \n",
      "15  2023-03-10 00:15:00          0.265064        124.019865        8.233287   \n",
      "16  2023-03-10 00:16:00          0.373818         64.446028        8.042030   \n",
      "17  2023-03-10 00:17:00          0.572281         95.435618        9.699500   \n",
      "18  2023-03-10 00:18:00          0.488751        123.239064        7.065470   \n",
      "19  2023-03-10 00:19:00          0.362106         52.715678        8.991369   \n",
      "\n",
      "    RMS Vibration  Mean Temp  Fault Label  \n",
      "0        0.601657  90.561384            1  \n",
      "1        0.601657  90.561384            1  \n",
      "2        0.601657  90.561384            0  \n",
      "3        0.601657  90.561384            1  \n",
      "4        0.601657  90.561384            0  \n",
      "5        0.601657  90.561384            1  \n",
      "6        0.601657  90.561384            2  \n",
      "7        0.601657  90.561384            0  \n",
      "8        0.601657  90.561384            1  \n",
      "9        0.601657  90.561384            0  \n",
      "10       0.601657  90.561384            0  \n",
      "11       0.601657  90.561384            0  \n",
      "12       0.601657  90.561384            0  \n",
      "13       0.601657  90.561384            0  \n",
      "14       0.601657  90.561384            1  \n",
      "15       0.601657  90.561384            0  \n",
      "16       0.601657  90.561384            1  \n",
      "17       0.601657  90.561384            0  \n",
      "18       0.601657  90.561384            0  \n",
      "19       0.601657  90.561384            1  \n"
     ]
    }
   ],
   "source": [
    "print(df.head(20))"
   ]
  },
  {
   "cell_type": "code",
   "execution_count": 5,
   "id": "8486c27b",
   "metadata": {},
   "outputs": [
    {
     "data": {
      "text/html": [
       "<div>\n",
       "<style scoped>\n",
       "    .dataframe tbody tr th:only-of-type {\n",
       "        vertical-align: middle;\n",
       "    }\n",
       "\n",
       "    .dataframe tbody tr th {\n",
       "        vertical-align: top;\n",
       "    }\n",
       "\n",
       "    .dataframe thead th {\n",
       "        text-align: right;\n",
       "    }\n",
       "</style>\n",
       "<table border=\"1\" class=\"dataframe\">\n",
       "  <thead>\n",
       "    <tr style=\"text-align: right;\">\n",
       "      <th></th>\n",
       "      <th>Vibration (mm/s)</th>\n",
       "      <th>Temperature (°C)</th>\n",
       "      <th>Pressure (bar)</th>\n",
       "      <th>RMS Vibration</th>\n",
       "      <th>Mean Temp</th>\n",
       "      <th>Fault Label</th>\n",
       "    </tr>\n",
       "  </thead>\n",
       "  <tbody>\n",
       "    <tr>\n",
       "      <th>count</th>\n",
       "      <td>1000.000000</td>\n",
       "      <td>1000.000000</td>\n",
       "      <td>1000.000000</td>\n",
       "      <td>1.000000e+03</td>\n",
       "      <td>1.000000e+03</td>\n",
       "      <td>1000.000000</td>\n",
       "    </tr>\n",
       "    <tr>\n",
       "      <th>mean</th>\n",
       "      <td>0.541231</td>\n",
       "      <td>90.561384</td>\n",
       "      <td>8.507217</td>\n",
       "      <td>6.016565e-01</td>\n",
       "      <td>9.056138e+01</td>\n",
       "      <td>0.479000</td>\n",
       "    </tr>\n",
       "    <tr>\n",
       "      <th>std</th>\n",
       "      <td>0.262924</td>\n",
       "      <td>23.375191</td>\n",
       "      <td>0.872023</td>\n",
       "      <td>1.110779e-14</td>\n",
       "      <td>7.108983e-13</td>\n",
       "      <td>0.652675</td>\n",
       "    </tr>\n",
       "    <tr>\n",
       "      <th>min</th>\n",
       "      <td>0.104169</td>\n",
       "      <td>50.257461</td>\n",
       "      <td>7.000035</td>\n",
       "      <td>6.016565e-01</td>\n",
       "      <td>9.056138e+01</td>\n",
       "      <td>0.000000</td>\n",
       "    </tr>\n",
       "    <tr>\n",
       "      <th>25%</th>\n",
       "      <td>0.312376</td>\n",
       "      <td>69.285942</td>\n",
       "      <td>7.784053</td>\n",
       "      <td>6.016565e-01</td>\n",
       "      <td>9.056138e+01</td>\n",
       "      <td>0.000000</td>\n",
       "    </tr>\n",
       "    <tr>\n",
       "      <th>50%</th>\n",
       "      <td>0.547127</td>\n",
       "      <td>91.498713</td>\n",
       "      <td>8.501842</td>\n",
       "      <td>6.016565e-01</td>\n",
       "      <td>9.056138e+01</td>\n",
       "      <td>0.000000</td>\n",
       "    </tr>\n",
       "    <tr>\n",
       "      <th>75%</th>\n",
       "      <td>0.769888</td>\n",
       "      <td>110.837205</td>\n",
       "      <td>9.277311</td>\n",
       "      <td>6.016565e-01</td>\n",
       "      <td>9.056138e+01</td>\n",
       "      <td>1.000000</td>\n",
       "    </tr>\n",
       "    <tr>\n",
       "      <th>max</th>\n",
       "      <td>0.999746</td>\n",
       "      <td>129.953098</td>\n",
       "      <td>9.993463</td>\n",
       "      <td>6.016565e-01</td>\n",
       "      <td>9.056138e+01</td>\n",
       "      <td>2.000000</td>\n",
       "    </tr>\n",
       "  </tbody>\n",
       "</table>\n",
       "</div>"
      ],
      "text/plain": [
       "       Vibration (mm/s)  Temperature (°C)  Pressure (bar)  RMS Vibration  \\\n",
       "count       1000.000000       1000.000000     1000.000000   1.000000e+03   \n",
       "mean           0.541231         90.561384        8.507217   6.016565e-01   \n",
       "std            0.262924         23.375191        0.872023   1.110779e-14   \n",
       "min            0.104169         50.257461        7.000035   6.016565e-01   \n",
       "25%            0.312376         69.285942        7.784053   6.016565e-01   \n",
       "50%            0.547127         91.498713        8.501842   6.016565e-01   \n",
       "75%            0.769888        110.837205        9.277311   6.016565e-01   \n",
       "max            0.999746        129.953098        9.993463   6.016565e-01   \n",
       "\n",
       "          Mean Temp  Fault Label  \n",
       "count  1.000000e+03  1000.000000  \n",
       "mean   9.056138e+01     0.479000  \n",
       "std    7.108983e-13     0.652675  \n",
       "min    9.056138e+01     0.000000  \n",
       "25%    9.056138e+01     0.000000  \n",
       "50%    9.056138e+01     0.000000  \n",
       "75%    9.056138e+01     1.000000  \n",
       "max    9.056138e+01     2.000000  "
      ]
     },
     "execution_count": 5,
     "metadata": {},
     "output_type": "execute_result"
    }
   ],
   "source": [
    "df.describe()"
   ]
  },
  {
   "cell_type": "code",
   "execution_count": 6,
   "id": "95732639",
   "metadata": {},
   "outputs": [
    {
     "data": {
      "text/plain": [
       "Index(['Timestamp', 'Vibration (mm/s)', 'Temperature (°C)', 'Pressure (bar)',\n",
       "       'RMS Vibration', 'Mean Temp', 'Fault Label'],\n",
       "      dtype='object')"
      ]
     },
     "execution_count": 6,
     "metadata": {},
     "output_type": "execute_result"
    }
   ],
   "source": [
    "df.columns"
   ]
  },
  {
   "cell_type": "code",
   "execution_count": null,
   "id": "a8ddc361",
   "metadata": {},
   "outputs": [],
   "source": []
  }
 ],
 "metadata": {
  "kernelspec": {
   "display_name": "Python 3 (ipykernel)",
   "language": "python",
   "name": "python3"
  },
  "language_info": {
   "codemirror_mode": {
    "name": "ipython",
    "version": 3
   },
   "file_extension": ".py",
   "mimetype": "text/x-python",
   "name": "python",
   "nbconvert_exporter": "python",
   "pygments_lexer": "ipython3",
   "version": "3.9.7"
  }
 },
 "nbformat": 4,
 "nbformat_minor": 5
}
